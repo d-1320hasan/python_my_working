{
  "nbformat": 4,
  "nbformat_minor": 0,
  "metadata": {
    "colab": {
      "name": "Python-20",
      "provenance": [],
      "authorship_tag": "ABX9TyPN35e/p6f2NTZkv+7R26mn",
      "include_colab_link": true
    },
    "kernelspec": {
      "name": "python3",
      "display_name": "Python 3"
    },
    "language_info": {
      "name": "python"
    }
  },
  "cells": [
    {
      "cell_type": "markdown",
      "metadata": {
        "id": "view-in-github",
        "colab_type": "text"
      },
      "source": [
        "<a href=\"https://colab.research.google.com/github/d-1320hasan/python_my_working/blob/main/Python_20.ipynb\" target=\"_parent\"><img src=\"https://colab.research.google.com/assets/colab-badge.svg\" alt=\"Open In Colab\"/></a>"
      ]
    },
    {
      "cell_type": "code",
      "execution_count": null,
      "metadata": {
        "colab": {
          "base_uri": "https://localhost:8080/"
        },
        "id": "TxRYJUVzYFGW",
        "outputId": "1fa92d3a-2c32-46ec-956a-13d0c80b3b92"
      },
      "outputs": [
        {
          "output_type": "execute_result",
          "data": {
            "text/plain": [
              "['right 20', 'right 30', 'left 50', 'up 10', 'down 20']"
            ]
          },
          "metadata": {},
          "execution_count": 3
        }
      ],
      "source": [
        "command= [\"right 20\", \"right 30\", \"left 50\",\"up 10\",\"down 20\"]\n",
        "command"
      ]
    },
    {
      "cell_type": "code",
      "source": [
        "sayac = len(command)\n",
        "x=y=0\n",
        "for i in range (sayac*2):\n",
        "  if command[i]=='right':\n",
        "   liste1+=i == 'left'\n",
        "  elif \n",
        "\n",
        "\n",
        "\n"
      ],
      "metadata": {
        "colab": {
          "base_uri": "https://localhost:8080/"
        },
        "id": "H0zI5zjVcBk2",
        "outputId": "508493f7-09bb-4912-e5fd-63480ecb9c4c"
      },
      "execution_count": null,
      "outputs": [
        {
          "output_type": "stream",
          "name": "stdout",
          "text": [
            "right 20\n",
            "right 30\n",
            "left 50\n",
            "up 10\n",
            "down 20\n"
          ]
        }
      ]
    },
    {
      "cell_type": "code",
      "source": [
        "x=y=0\n",
        "\n",
        "for i in range(len(command)):\n",
        "  if command[i].startwith==(\"r\"):\n",
        "    x=x+int(command[i].split()[1])\n",
        "  elif command[i].startwith(\"l\"):\n",
        "    x=x-int(command[i].split()[1])\n",
        "  elif command[i].startwith(\"u\"):\n",
        "    y=y+int(command[i].split()[1])\n",
        "  elif command[i].startwith(\"d\"):\n",
        "    y=y-int(command[i].split()[1])\n",
        "  [x,y]\n",
        "\n",
        "\n"
      ],
      "metadata": {
        "id": "wMl8UELHd27n"
      },
      "execution_count": null,
      "outputs": []
    },
    {
      "cell_type": "code",
      "source": [
        "command = [\"right 20\", \"right 30\", \"left 50\", \"up 10\", \"down 20\"]\n",
        "kordinat = [i.split() for i in command]\n",
        "x = y = 0\n",
        "command[-1]\n",
        "len(command)\n",
        "command[-1].split()\n",
        "for i in range(len(command)) :\n",
        "  if command[i].startswith(\"r\") : x = x + int(command[i].split()[1])\n",
        "  elif command[i].startswith(\"l\") : x = x - int(command[i].split()[1])\n",
        "  elif command[i].startswith(\"u\") : y = y + int(command[i].split()[1])\n",
        "  elif command[i].startswith(\"d\") : y = y - int(command[i].split()[1])\n",
        "[x, y]"
      ],
      "metadata": {
        "colab": {
          "base_uri": "https://localhost:8080/"
        },
        "id": "8HfNZnrZh9hS",
        "outputId": "59ea25ce-39c8-46e2-ca2a-cfc9b10d7a4d"
      },
      "execution_count": null,
      "outputs": [
        {
          "output_type": "execute_result",
          "data": {
            "text/plain": [
              "[0, -10]"
            ]
          },
          "metadata": {},
          "execution_count": 13
        }
      ]
    },
    {
      "cell_type": "code",
      "source": [
        "command = [\"right 20\", \"right 30\", \"left 50\", \"up 10\", \"down 20\"]\n",
        "kordinat = [i.split() for i in command]\n",
        "kordinat"
      ],
      "metadata": {
        "colab": {
          "base_uri": "https://localhost:8080/"
        },
        "id": "Yb8Z7BVsQ6jM",
        "outputId": "67cd82a6-c702-4b0c-d4c2-23abb0899cb2"
      },
      "execution_count": null,
      "outputs": [
        {
          "output_type": "execute_result",
          "data": {
            "text/plain": [
              "[['right', '20'],\n",
              " ['right', '30'],\n",
              " ['left', '50'],\n",
              " ['up', '10'],\n",
              " ['down', '20']]"
            ]
          },
          "metadata": {},
          "execution_count": 1
        }
      ]
    },
    {
      "cell_type": "code",
      "source": [
        "x = \"[([{({})}]({}))\"\n"
      ],
      "metadata": {
        "id": "3pdNIAexlGaJ"
      },
      "execution_count": null,
      "outputs": []
    },
    {
      "cell_type": "code",
      "source": [
        "\"ali-deli-veli\".replace(\"-\",\"\")"
      ],
      "metadata": {
        "id": "BjWbEHG0n0j9"
      },
      "execution_count": null,
      "outputs": []
    },
    {
      "cell_type": "code",
      "source": [
        "def isValid(s):\n",
        "  while \"()\" in s or \"[]\" in s or \"{}\" in s:\n",
        "    s = s.replace(\"()\",\"\").replace(\"[]\",\"\").replace(\"{}\",\"\")\n",
        "  return s ==''"
      ],
      "metadata": {
        "id": "WI6qQRiAoNBR"
      },
      "execution_count": null,
      "outputs": []
    },
    {
      "cell_type": "code",
      "source": [
        "isValid(x)"
      ],
      "metadata": {
        "colab": {
          "base_uri": "https://localhost:8080/"
        },
        "id": "qLaOxV2Bpzt4",
        "outputId": "6b10b620-3452-4e56-cfa6-0431e34ec478"
      },
      "execution_count": null,
      "outputs": [
        {
          "output_type": "execute_result",
          "data": {
            "text/plain": [
              "False"
            ]
          },
          "metadata": {},
          "execution_count": 18
        }
      ]
    },
    {
      "cell_type": "code",
      "source": [
        "(lambda x,y :x+y)(4,5)"
      ],
      "metadata": {
        "colab": {
          "base_uri": "https://localhost:8080/"
        },
        "id": "zH2OqSWRpK6X",
        "outputId": "24c92ae9-069e-41f9-c025-85c2d13c5d88"
      },
      "execution_count": null,
      "outputs": [
        {
          "output_type": "execute_result",
          "data": {
            "text/plain": [
              "9"
            ]
          },
          "metadata": {},
          "execution_count": 19
        }
      ]
    },
    {
      "cell_type": "code",
      "source": [
        "bir_dikşinıri= {\"ne_diyorum\": \"sesimi_duy\",\"neden\":[\"bilmiyorum\"]}\n",
        "bir_dikşinıri[\"neden\"]"
      ],
      "metadata": {
        "colab": {
          "base_uri": "https://localhost:8080/"
        },
        "id": "rzxmruQkrQdi",
        "outputId": "3436aa26-6e3b-4eb9-beee-6cacfa897e77"
      },
      "execution_count": null,
      "outputs": [
        {
          "output_type": "execute_result",
          "data": {
            "text/plain": [
              "['bilmiyorum']"
            ]
          },
          "metadata": {},
          "execution_count": 20
        }
      ]
    },
    {
      "cell_type": "code",
      "source": [
        "calculator = {\"+\": (lambda x,y :x+y),\n",
        "              \"-\": (lambda x,y :x-y),\n",
        "              \"*\": (lambda x,y :x*y),\n",
        "              \"/\": (lambda x,y :x/y)}\n",
        "    "
      ],
      "metadata": {
        "id": "KH-ZOx60rzUH"
      },
      "execution_count": null,
      "outputs": []
    },
    {
      "cell_type": "code",
      "source": [
        "calculator [\"*\"](4,5)"
      ],
      "metadata": {
        "colab": {
          "base_uri": "https://localhost:8080/"
        },
        "id": "VUxVxw_WshTc",
        "outputId": "57129cfd-d489-41ca-b44d-2fbcfa834889"
      },
      "execution_count": null,
      "outputs": [
        {
          "output_type": "execute_result",
          "data": {
            "text/plain": [
              "20"
            ]
          },
          "metadata": {},
          "execution_count": 25
        }
      ]
    },
    {
      "cell_type": "code",
      "source": [
        "import random"
      ],
      "metadata": {
        "id": "7JwIiSIbuEYN"
      },
      "execution_count": null,
      "outputs": []
    },
    {
      "cell_type": "code",
      "source": [
        "random.randint(10,30)"
      ],
      "metadata": {
        "colab": {
          "base_uri": "https://localhost:8080/"
        },
        "id": "ItXRrrUSuKJG",
        "outputId": "8d8fb6f0-3d1c-4a26-e2fc-0bd417af65d0"
      },
      "execution_count": null,
      "outputs": [
        {
          "output_type": "execute_result",
          "data": {
            "text/plain": [
              "12"
            ]
          },
          "metadata": {},
          "execution_count": 27
        }
      ]
    },
    {
      "cell_type": "code",
      "source": [
        "chr(111)"
      ],
      "metadata": {
        "colab": {
          "base_uri": "https://localhost:8080/",
          "height": 35
        },
        "id": "IfQCTLEozFnI",
        "outputId": "08e62dba-198f-4f46-fed0-40ce0df71865"
      },
      "execution_count": null,
      "outputs": [
        {
          "output_type": "execute_result",
          "data": {
            "application/vnd.google.colaboratory.intrinsic+json": {
              "type": "string"
            },
            "text/plain": [
              "'o'"
            ]
          },
          "metadata": {},
          "execution_count": 28
        }
      ]
    },
    {
      "cell_type": "code",
      "source": [
        "chr(random.randint(65,90))"
      ],
      "metadata": {
        "colab": {
          "base_uri": "https://localhost:8080/",
          "height": 35
        },
        "id": "4zn-03q5zLOA",
        "outputId": "0ed8a5cc-011a-4904-a64a-ae5d7e9aa195"
      },
      "execution_count": null,
      "outputs": [
        {
          "output_type": "execute_result",
          "data": {
            "application/vnd.google.colaboratory.intrinsic+json": {
              "type": "string"
            },
            "text/plain": [
              "'J'"
            ]
          },
          "metadata": {},
          "execution_count": 31
        }
      ]
    },
    {
      "cell_type": "code",
      "source": [
        "uppers = [chr(random.randint(65,90)) for i in range(3)]\n",
        "uppers"
      ],
      "metadata": {
        "colab": {
          "base_uri": "https://localhost:8080/"
        },
        "id": "kULE0glPzu0B",
        "outputId": "026cead3-a9a0-46da-d18f-9b7927ca9192"
      },
      "execution_count": null,
      "outputs": [
        {
          "output_type": "execute_result",
          "data": {
            "text/plain": [
              "['A', 'S', 'F']"
            ]
          },
          "metadata": {},
          "execution_count": 15
        }
      ]
    },
    {
      "cell_type": "code",
      "source": [
        "lowers = [chr(random.randint(97,122)) for i in range(3)]\n",
        "lowers"
      ],
      "metadata": {
        "id": "83xmJMawz_Yv",
        "colab": {
          "base_uri": "https://localhost:8080/"
        },
        "outputId": "e6997665-b78c-4d86-afa2-fe94317a655d"
      },
      "execution_count": null,
      "outputs": [
        {
          "output_type": "execute_result",
          "data": {
            "text/plain": [
              "['g', 'c', 'd']"
            ]
          },
          "metadata": {},
          "execution_count": 12
        }
      ]
    },
    {
      "cell_type": "code",
      "source": [
        "numbers = [chr(random.randint(48,57)) for i in range(3)]\n",
        "numbers"
      ],
      "metadata": {
        "colab": {
          "base_uri": "https://localhost:8080/"
        },
        "id": "enUBfSJRY3Rz",
        "outputId": "fab83283-9202-4e6b-ab41-973d30bf1a9c"
      },
      "execution_count": null,
      "outputs": [
        {
          "output_type": "execute_result",
          "data": {
            "text/plain": [
              "['3', '3', '7']"
            ]
          },
          "metadata": {},
          "execution_count": 13
        }
      ]
    },
    {
      "cell_type": "code",
      "source": [
        "chars = [chr(random.randint(33,47)) for i in range(3)]\n",
        "chars"
      ],
      "metadata": {
        "colab": {
          "base_uri": "https://localhost:8080/"
        },
        "id": "0xNsvQ11azox",
        "outputId": "9d03ecd6-1f41-4b3a-b8eb-9e30284a3e23"
      },
      "execution_count": null,
      "outputs": [
        {
          "output_type": "execute_result",
          "data": {
            "text/plain": [
              "['*', '.', '\"']"
            ]
          },
          "metadata": {},
          "execution_count": 17
        }
      ]
    },
    {
      "cell_type": "code",
      "source": [
        "\"\".join(numbers)"
      ],
      "metadata": {
        "colab": {
          "base_uri": "https://localhost:8080/",
          "height": 35
        },
        "id": "EcqN5IoKa9lQ",
        "outputId": "72287551-8772-4d1f-f83a-f76c7bb26f6b"
      },
      "execution_count": null,
      "outputs": [
        {
          "output_type": "execute_result",
          "data": {
            "application/vnd.google.colaboratory.intrinsic+json": {
              "type": "string"
            },
            "text/plain": [
              "'403'"
            ]
          },
          "metadata": {},
          "execution_count": 9
        }
      ]
    },
    {
      "cell_type": "code",
      "source": [
        "passw = \"\".join(uppers)+\"\".join(lowers)+\"\".join(numbers)+\"\".join(chars)\n",
        "passw"
      ],
      "metadata": {
        "colab": {
          "base_uri": "https://localhost:8080/",
          "height": 35
        },
        "id": "dRz7vyLccmLp",
        "outputId": "5d2bc39a-683e-44f6-8e16-9b40bf4eb1d3"
      },
      "execution_count": null,
      "outputs": [
        {
          "output_type": "execute_result",
          "data": {
            "application/vnd.google.colaboratory.intrinsic+json": {
              "type": "string"
            },
            "text/plain": [
              "'ASFgcd337*.\"'"
            ]
          },
          "metadata": {},
          "execution_count": 21
        }
      ]
    },
    {
      "cell_type": "code",
      "source": [
        "def shuffle(password):\n",
        "  templist =list(password)\n",
        "  random.shuffle(templist)\n",
        "  return \"\".join(templist)\n"
      ],
      "metadata": {
        "id": "r1GtMVsndk9u"
      },
      "execution_count": null,
      "outputs": []
    },
    {
      "cell_type": "code",
      "source": [
        "passw =shuffle(passw)\n",
        "passw"
      ],
      "metadata": {
        "colab": {
          "base_uri": "https://localhost:8080/",
          "height": 35
        },
        "id": "30AU6HiXemor",
        "outputId": "5269d33e-587b-47d8-99bc-2d5ba75742f7"
      },
      "execution_count": null,
      "outputs": [
        {
          "output_type": "execute_result",
          "data": {
            "application/vnd.google.colaboratory.intrinsic+json": {
              "type": "string"
            },
            "text/plain": [
              "'.gFd\"A*3cS37'"
            ]
          },
          "metadata": {},
          "execution_count": 25
        }
      ]
    },
    {
      "cell_type": "code",
      "source": [
        "from timeit import timeit"
      ],
      "metadata": {
        "id": "9o7vRolI6YaF"
      },
      "execution_count": null,
      "outputs": []
    },
    {
      "cell_type": "code",
      "source": [
        "def for_loop():\n",
        "  result = []\n",
        "  for i in range(1000000):\n",
        "    result.append(i)\n",
        "  return result"
      ],
      "metadata": {
        "id": "_e-rTfLi6iQT"
      },
      "execution_count": null,
      "outputs": []
    },
    {
      "cell_type": "code",
      "source": [
        "def list_comp():\n",
        "  return [i for i in range(1000000)]\n",
        "  "
      ],
      "metadata": {
        "id": "b629iutT7CnK"
      },
      "execution_count": null,
      "outputs": []
    },
    {
      "cell_type": "code",
      "source": [
        "size = 100\n",
        "time_for = timeit(for_loop, number = size)\n",
        "time_list_comp = timeit(list_comp, number =size)"
      ],
      "metadata": {
        "id": "e7PyS6k_7XBH"
      },
      "execution_count": null,
      "outputs": []
    },
    {
      "cell_type": "code",
      "source": [
        "print(f\"List Comp. is {round(time_for/time_list_comp,2)} times faster than for loops\")"
      ],
      "metadata": {
        "colab": {
          "base_uri": "https://localhost:8080/"
        },
        "id": "ypyBAAVO8EYb",
        "outputId": "1b86fb9e-e737-4452-8eeb-598ce946b8e3"
      },
      "execution_count": null,
      "outputs": [
        {
          "output_type": "stream",
          "name": "stdout",
          "text": [
            "List Comp. is 1.7 times faster than for loops\n"
          ]
        }
      ]
    }
  ]
}