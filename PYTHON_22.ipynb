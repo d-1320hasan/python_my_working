{
  "nbformat": 4,
  "nbformat_minor": 0,
  "metadata": {
    "colab": {
      "name": "PYTHON-22",
      "provenance": [],
      "authorship_tag": "ABX9TyPnuz4cexhrN8BevSck9afv",
      "include_colab_link": true
    },
    "kernelspec": {
      "name": "python3",
      "display_name": "Python 3"
    },
    "language_info": {
      "name": "python"
    }
  },
  "cells": [
    {
      "cell_type": "markdown",
      "metadata": {
        "id": "view-in-github",
        "colab_type": "text"
      },
      "source": [
        "<a href=\"https://colab.research.google.com/github/d-1320hasan/python_my_working/blob/main/PYTHON_22.ipynb\" target=\"_parent\"><img src=\"https://colab.research.google.com/assets/colab-badge.svg\" alt=\"Open In Colab\"/></a>"
      ]
    },
    {
      "cell_type": "code",
      "execution_count": null,
      "metadata": {
        "id": "FR3GA6xEbhq_",
        "outputId": "b7081c8b-588e-4613-fc06-c64aead83499",
        "colab": {
          "base_uri": "https://localhost:8080/",
          "height": 35
        }
      },
      "outputs": [
        {
          "output_type": "execute_result",
          "data": {
            "application/vnd.google.colaboratory.intrinsic+json": {
              "type": "string"
            },
            "text/plain": [
              "'/content'"
            ]
          },
          "metadata": {},
          "execution_count": 1
        }
      ],
      "source": [
        "pwd\n"
      ]
    },
    {
      "cell_type": "code",
      "source": [
        "file =open(\"fishes.txt\",\"r\",encoding=\"utf-8\")\n",
        "print(file.read())\n",
        "file.close()"
      ],
      "metadata": {
        "colab": {
          "base_uri": "https://localhost:8080/"
        },
        "id": "yWu9lfOHfMMz",
        "outputId": "404b92c4-769f-4496-f658-2191c5536cc0"
      },
      "execution_count": 5,
      "outputs": [
        {
          "output_type": "stream",
          "name": "stdout",
          "text": [
            "Orca is a kind of Dolphin.\n",
            "Blue Whale is the largest animal known on earth.\n",
            "Sharks are the sister group to the Rays (batoids).\n",
            "The Tuna Fish can weigh up to 260 kg.\n",
            "Squid and Octopus are in the same class.\n"
          ]
        }
      ]
    },
    {
      "cell_type": "code",
      "source": [
        "file =open(\"fishes.txt\",\"r\",encoding=\"utf-8\")\n",
        "content = file.read()\n",
        "file.close()"
      ],
      "metadata": {
        "id": "A20HonTjiGGK"
      },
      "execution_count": 6,
      "outputs": []
    },
    {
      "cell_type": "code",
      "source": [
        "file =open(\"fishes.txt\",\"r\",encoding=\"utf-8\")\n",
        "print(file.read(33))\n",
        "file.close()"
      ],
      "metadata": {
        "id": "Uray2I_lkCOZ",
        "colab": {
          "base_uri": "https://localhost:8080/"
        },
        "outputId": "6a8d98ce-f776-4dff-d3c4-d5d4b406db14"
      },
      "execution_count": 8,
      "outputs": [
        {
          "output_type": "stream",
          "name": "stdout",
          "text": [
            "Orca is a kind of Dolphin.\n",
            "Blue W\n"
          ]
        }
      ]
    },
    {
      "cell_type": "code",
      "source": [
        "pwd"
      ],
      "metadata": {
        "colab": {
          "base_uri": "https://localhost:8080/",
          "height": 35
        },
        "id": "Jq4SNYrqqm3T",
        "outputId": "e73f76ad-6acc-4ee6-e27c-a4b30d849be5"
      },
      "execution_count": 9,
      "outputs": [
        {
          "output_type": "execute_result",
          "data": {
            "application/vnd.google.colaboratory.intrinsic+json": {
              "type": "string"
            },
            "text/plain": [
              "'/content'"
            ]
          },
          "metadata": {},
          "execution_count": 9
        }
      ]
    },
    {
      "cell_type": "code",
      "source": [
        "len(content)\n"
      ],
      "metadata": {
        "colab": {
          "base_uri": "https://localhost:8080/"
        },
        "id": "MmnkbaKsqrnE",
        "outputId": "1c8a168e-5e35-4916-c4db-3ce81ce102e7"
      },
      "execution_count": 10,
      "outputs": [
        {
          "output_type": "execute_result",
          "data": {
            "text/plain": [
              "205"
            ]
          },
          "metadata": {},
          "execution_count": 10
        }
      ]
    },
    {
      "cell_type": "code",
      "source": [
        "content[:33]"
      ],
      "metadata": {
        "colab": {
          "base_uri": "https://localhost:8080/",
          "height": 35
        },
        "id": "JZkQHarMqw25",
        "outputId": "ad79bd50-9fd6-4bbc-845f-4f90a59e8346"
      },
      "execution_count": 11,
      "outputs": [
        {
          "output_type": "execute_result",
          "data": {
            "application/vnd.google.colaboratory.intrinsic+json": {
              "type": "string"
            },
            "text/plain": [
              "'Orca is a kind of Dolphin.\\nBlue W'"
            ]
          },
          "metadata": {},
          "execution_count": 11
        }
      ]
    },
    {
      "cell_type": "code",
      "source": [
        "file =open(\"fishes.txt\",\"r\",encoding=\"utf-8\")\n",
        "print(file.read(33))\n",
        "print(file.read(33))                                  #ikinci print kaldığı yerden 33 karakter alır.\n",
        "file.close()\n"
      ],
      "metadata": {
        "colab": {
          "base_uri": "https://localhost:8080/"
        },
        "id": "lJ7laR8qq1aX",
        "outputId": "e8ef5483-6c98-4e6a-b3a4-25285adc6080"
      },
      "execution_count": 13,
      "outputs": [
        {
          "output_type": "stream",
          "name": "stdout",
          "text": [
            "Orca is a kind of Dolphin.\n",
            "Blue W\n",
            "hale is the largest animal known \n"
          ]
        }
      ]
    },
    {
      "cell_type": "code",
      "source": [
        "file =open(\"fishes.txt\",\"r\",encoding=\"utf-8\")\n",
        "print(file.read(33))\n",
        "print(file.read(33)) \n",
        "file.seek (0)                               #file.seek imleci başa aldı. baştan itibaren 3. print ile yazdı\n",
        "print(file.read(33))\n",
        "\n",
        "file.close()"
      ],
      "metadata": {
        "colab": {
          "base_uri": "https://localhost:8080/"
        },
        "id": "cdnKw2X6reUe",
        "outputId": "5451d50a-d9c2-40ef-d531-8155c3288846"
      },
      "execution_count": 15,
      "outputs": [
        {
          "output_type": "stream",
          "name": "stdout",
          "text": [
            "Orca is a kind of Dolphin.\n",
            "Blue W\n",
            "hale is the largest animal known \n",
            "Orca is a kind of Dolphin.\n",
            "Blue W\n"
          ]
        }
      ]
    },
    {
      "cell_type": "code",
      "source": [
        "file =open(\"fishes.txt\",\"r\",encoding=\"utf-8\")\n",
        "print(file.read(33))\n",
        "print(file.read(33)) \n",
        "file.seek (0)                               #file.seek imleci başa aldı. baştan itibaren 3. print ile yazdı\n",
        "print(file.read(33))                         #file.tell() ile imlecimizin yerini yazdırıyoruz\n",
        "print(file.tell())\n",
        "file.close()"
      ],
      "metadata": {
        "colab": {
          "base_uri": "https://localhost:8080/"
        },
        "id": "zJqnI-XIsflm",
        "outputId": "30644857-ab55-42b9-a179-080f74bc8718"
      },
      "execution_count": 16,
      "outputs": [
        {
          "output_type": "stream",
          "name": "stdout",
          "text": [
            "Orca is a kind of Dolphin.\n",
            "Blue W\n",
            "hale is the largest animal known \n",
            "Orca is a kind of Dolphin.\n",
            "Blue W\n",
            "34\n"
          ]
        }
      ]
    },
    {
      "cell_type": "code",
      "source": [
        "file =open(\"fishes.txt\",\"r\",encoding=\"utf-8\")\n",
        "print(file.read(33))\n",
        "print(file.read(15))                         #33 den sonra 15 karakter gitti ve bulunduğu yeri 49 okuttu.\n",
        "print(file.tell())\n",
        "file.seek (0)                               #file.seek imleci başa aldı. baştan itibaren 3. print ile yazdı\n",
        "print(file.read(33))                         #file.tell() ile imlecimizin yerini yazdırıyoruz\n",
        "print(file.tell())\n",
        "file.close()"
      ],
      "metadata": {
        "colab": {
          "base_uri": "https://localhost:8080/"
        },
        "id": "_VKRAmFatlwd",
        "outputId": "c394f2b8-e90a-405c-c58f-2ec3d024e34a"
      },
      "execution_count": 17,
      "outputs": [
        {
          "output_type": "stream",
          "name": "stdout",
          "text": [
            "Orca is a kind of Dolphin.\n",
            "Blue W\n",
            "hale is the lar\n",
            "49\n",
            "Orca is a kind of Dolphin.\n",
            "Blue W\n",
            "34\n"
          ]
        }
      ]
    },
    {
      "cell_type": "code",
      "source": [
        "file =open(\"fishes.txt\",\"r\",encoding=\"utf-8\")\n",
        "print(file.readline())\n",
        "file.close()"
      ],
      "metadata": {
        "colab": {
          "base_uri": "https://localhost:8080/"
        },
        "id": "M2mY4BoSt9Ku",
        "outputId": "ee1e8531-fc52-486f-bea8-4a2e5837a84d"
      },
      "execution_count": 20,
      "outputs": [
        {
          "output_type": "stream",
          "name": "stdout",
          "text": [
            "Orca is a kind of Dolphin.\n",
            "\n"
          ]
        }
      ]
    },
    {
      "cell_type": "code",
      "source": [
        "file =open(\"fishes.txt\",\"r\",encoding=\"utf-8\")\n",
        "print(file.readline())\n",
        "print(file.readline())\n",
        "print(file.readline())\n",
        "file.close()"
      ],
      "metadata": {
        "colab": {
          "base_uri": "https://localhost:8080/"
        },
        "id": "Ax084imMI51Z",
        "outputId": "09ac36d7-03b4-4f2d-ff20-0796c94cd262"
      },
      "execution_count": 21,
      "outputs": [
        {
          "output_type": "stream",
          "name": "stdout",
          "text": [
            "Orca is a kind of Dolphin.\n",
            "\n",
            "Blue Whale is the largest animal known on earth.\n",
            "\n",
            "Sharks are the sister group to the Rays (batoids).\n",
            "\n"
          ]
        }
      ]
    },
    {
      "cell_type": "code",
      "source": [
        "file =open(\"fishes.txt\",\"r\",encoding=\"utf-8\")\n",
        "print(file.readline(13))\n",
        "print(file.readline(13))\n",
        "print(file.readline(13))\n",
        "print(file.readline(13))\n",
        "file.close()"
      ],
      "metadata": {
        "colab": {
          "base_uri": "https://localhost:8080/"
        },
        "id": "_K3askvoJXU9",
        "outputId": "f0bfbebb-e94a-46ff-e8b5-efdfd7ea7c7c"
      },
      "execution_count": 23,
      "outputs": [
        {
          "output_type": "stream",
          "name": "stdout",
          "text": [
            "Orca is a kin\n",
            "d of Dolphin.\n",
            "\n",
            "\n",
            "Blue Whale is\n"
          ]
        }
      ]
    },
    {
      "cell_type": "code",
      "source": [
        "file =open(\"fishes.txt\",\"r\",encoding=\"utf-8\")\n",
        "part1=file.readline(13)\n",
        "part2=file.readline(13)\n",
        "part3=file.readline(13)\n",
        "part4=file.readline(13)\n",
        "file.close()"
      ],
      "metadata": {
        "id": "xK-CbR86Jy1i"
      },
      "execution_count": 25,
      "outputs": []
    },
    {
      "cell_type": "code",
      "source": [
        "part1"
      ],
      "metadata": {
        "colab": {
          "base_uri": "https://localhost:8080/",
          "height": 35
        },
        "id": "-52UOGg3KHup",
        "outputId": "9bda4237-37be-4285-beab-2777450c4987"
      },
      "execution_count": 26,
      "outputs": [
        {
          "output_type": "execute_result",
          "data": {
            "application/vnd.google.colaboratory.intrinsic+json": {
              "type": "string"
            },
            "text/plain": [
              "'Orca is a kin'"
            ]
          },
          "metadata": {},
          "execution_count": 26
        }
      ]
    },
    {
      "cell_type": "code",
      "source": [
        "part2"
      ],
      "metadata": {
        "colab": {
          "base_uri": "https://localhost:8080/",
          "height": 35
        },
        "id": "F7hG4-JIKKjX",
        "outputId": "5d69159a-5ccc-4426-a170-9bf14a95c345"
      },
      "execution_count": 27,
      "outputs": [
        {
          "output_type": "execute_result",
          "data": {
            "application/vnd.google.colaboratory.intrinsic+json": {
              "type": "string"
            },
            "text/plain": [
              "'d of Dolphin.'"
            ]
          },
          "metadata": {},
          "execution_count": 27
        }
      ]
    },
    {
      "cell_type": "code",
      "source": [
        "part3"
      ],
      "metadata": {
        "colab": {
          "base_uri": "https://localhost:8080/",
          "height": 35
        },
        "id": "CyRbIhrKKM-H",
        "outputId": "d38873f2-96a4-4415-f167-b36a9449df0b"
      },
      "execution_count": 28,
      "outputs": [
        {
          "output_type": "execute_result",
          "data": {
            "application/vnd.google.colaboratory.intrinsic+json": {
              "type": "string"
            },
            "text/plain": [
              "'\\n'"
            ]
          },
          "metadata": {},
          "execution_count": 28
        }
      ]
    },
    {
      "cell_type": "code",
      "source": [
        "part4"
      ],
      "metadata": {
        "colab": {
          "base_uri": "https://localhost:8080/",
          "height": 35
        },
        "id": "HWdKhzSpKPW1",
        "outputId": "1b4289c6-ef86-4fd2-c786-70fc0db2d6df"
      },
      "execution_count": 29,
      "outputs": [
        {
          "output_type": "execute_result",
          "data": {
            "application/vnd.google.colaboratory.intrinsic+json": {
              "type": "string"
            },
            "text/plain": [
              "'Blue Whale is'"
            ]
          },
          "metadata": {},
          "execution_count": 29
        }
      ]
    },
    {
      "cell_type": "code",
      "source": [
        "part =part1+part2+part3+part4"
      ],
      "metadata": {
        "id": "hALY_ByLLHdq"
      },
      "execution_count": 30,
      "outputs": []
    },
    {
      "cell_type": "code",
      "source": [
        "part"
      ],
      "metadata": {
        "colab": {
          "base_uri": "https://localhost:8080/",
          "height": 35
        },
        "id": "0A6XRK-vLOR4",
        "outputId": "e9f752f4-a10e-4d0b-b0db-1f8ae12c010e"
      },
      "execution_count": 31,
      "outputs": [
        {
          "output_type": "execute_result",
          "data": {
            "application/vnd.google.colaboratory.intrinsic+json": {
              "type": "string"
            },
            "text/plain": [
              "'Orca is a kind of Dolphin.\\nBlue Whale is'"
            ]
          },
          "metadata": {},
          "execution_count": 31
        }
      ]
    },
    {
      "cell_type": "code",
      "source": [
        "with open (\"fishes.txt\",\"r\") as file :                       #open/close yerine kısa yöntem\n",
        "  fish = file.readlines()"
      ],
      "metadata": {
        "id": "itA-kILAM8Dn"
      },
      "execution_count": 32,
      "outputs": []
    },
    {
      "cell_type": "code",
      "source": [
        "fish"
      ],
      "metadata": {
        "colab": {
          "base_uri": "https://localhost:8080/"
        },
        "id": "00V25Eo3Nqr0",
        "outputId": "adaf726a-c8f9-48c8-92b8-77a20b054653"
      },
      "execution_count": 33,
      "outputs": [
        {
          "output_type": "execute_result",
          "data": {
            "text/plain": [
              "['Orca is a kind of Dolphin.\\n',\n",
              " 'Blue Whale is the largest animal known on earth.\\n',\n",
              " 'Sharks are the sister group to the Rays (batoids).\\n',\n",
              " 'The Tuna Fish can weigh up to 260 kg.\\n',\n",
              " 'Squid and Octopus are in the same class.']"
            ]
          },
          "metadata": {},
          "execution_count": 33
        }
      ]
    },
    {
      "cell_type": "code",
      "source": [
        "type(fish)"
      ],
      "metadata": {
        "colab": {
          "base_uri": "https://localhost:8080/"
        },
        "id": "XSrR6X8xN6mS",
        "outputId": "278d0a3a-c913-467a-8e7f-409f7e477f41"
      },
      "execution_count": 34,
      "outputs": [
        {
          "output_type": "execute_result",
          "data": {
            "text/plain": [
              "list"
            ]
          },
          "metadata": {},
          "execution_count": 34
        }
      ]
    },
    {
      "cell_type": "code",
      "source": [
        "for line in fish:\n",
        "  print(line)"
      ],
      "metadata": {
        "colab": {
          "base_uri": "https://localhost:8080/"
        },
        "id": "xx3xkYpRN_BS",
        "outputId": "370d02b1-07b8-4c60-cac7-13f1deb4754b"
      },
      "execution_count": 35,
      "outputs": [
        {
          "output_type": "stream",
          "name": "stdout",
          "text": [
            "Orca is a kind of Dolphin.\n",
            "\n",
            "Blue Whale is the largest animal known on earth.\n",
            "\n",
            "Sharks are the sister group to the Rays (batoids).\n",
            "\n",
            "The Tuna Fish can weigh up to 260 kg.\n",
            "\n",
            "Squid and Octopus are in the same class.\n"
          ]
        }
      ]
    },
    {
      "cell_type": "code",
      "source": [
        "with open (\"fishes.txt\",\"r\") as file:\n",
        "  for line in file:\n",
        "    print(line)"
      ],
      "metadata": {
        "colab": {
          "base_uri": "https://localhost:8080/"
        },
        "id": "IZpU-oi3OQgA",
        "outputId": "e1ea4195-da70-4ac9-a251-e10e230085d0"
      },
      "execution_count": 36,
      "outputs": [
        {
          "output_type": "stream",
          "name": "stdout",
          "text": [
            "Orca is a kind of Dolphin.\n",
            "\n",
            "Blue Whale is the largest animal known on earth.\n",
            "\n",
            "Sharks are the sister group to the Rays (batoids).\n",
            "\n",
            "The Tuna Fish can weigh up to 260 kg.\n",
            "\n",
            "Squid and Octopus are in the same class.\n"
          ]
        }
      ]
    },
    {
      "cell_type": "code",
      "source": [
        "with open (\"dummy_file.txt\",\"w\", encoding=\"utf-8\") as file:\n",
        "  file.write(\"this is the first line of my text file\")\n",
        "with open (\"dummy_file.txt\",\"r\",encoding= \"utf-8\") as file:\n",
        "  print(file.read())"
      ],
      "metadata": {
        "colab": {
          "base_uri": "https://localhost:8080/"
        },
        "id": "FTGqXX2vOoI8",
        "outputId": "b96e6b6f-ee1c-4a1e-c58f-cdbb89db2e78"
      },
      "execution_count": 37,
      "outputs": [
        {
          "output_type": "stream",
          "name": "stdout",
          "text": [
            "this is the first line of my text file\n"
          ]
        }
      ]
    },
    {
      "cell_type": "code",
      "source": [
        "with open (\"dummy_file.txt\",\"a\", encoding=\"utf-8\") as file:\n",
        "  file.write(\"this is the first line of my text file\")\n",
        "with open (\"dummy_file.txt\",\"r\",encoding= \"utf-8\") as file:\n",
        "  print(file.read())"
      ],
      "metadata": {
        "colab": {
          "base_uri": "https://localhost:8080/"
        },
        "id": "ad1_tolSTsHF",
        "outputId": "8cb03df0-553c-4b03-f760-825f26763178"
      },
      "execution_count": 38,
      "outputs": [
        {
          "output_type": "stream",
          "name": "stdout",
          "text": [
            "this is the first line of my text filethis is the first line of my text file\n"
          ]
        }
      ]
    },
    {
      "cell_type": "code",
      "source": [
        "fruits= [\"Banan\",\"Orange\",\"Apple\",\"Strawberry\",\"Cherry\"]\n",
        "with open(\"fruits.txt\",\"w\",encoding=\"utf-8\") as dosyam :\n",
        "  for sepet in fruits:\n",
        "    dosyam.write(sepet+\"\\n\")\n",
        "\n",
        "with open (\"fruits.txt\",\"r\") as file:\n",
        "  print(file.read())"
      ],
      "metadata": {
        "colab": {
          "base_uri": "https://localhost:8080/"
        },
        "id": "RXKF-PwRVTVa",
        "outputId": "99630e73-aee6-4274-b6a9-19ad411112f3"
      },
      "execution_count": 40,
      "outputs": [
        {
          "output_type": "stream",
          "name": "stdout",
          "text": [
            "Banan\n",
            "Orange\n",
            "Apple\n",
            "Strawberry\n",
            "Cherry\n",
            "\n"
          ]
        }
      ]
    },
    {
      "cell_type": "code",
      "source": [
        "with open(\"fruits.txt\") as file:\n",
        "  fruits2= file.readlines()\n",
        "  "
      ],
      "metadata": {
        "id": "qjOIeuDHW6f_"
      },
      "execution_count": 42,
      "outputs": []
    },
    {
      "cell_type": "code",
      "source": [
        "fruits2"
      ],
      "metadata": {
        "colab": {
          "base_uri": "https://localhost:8080/"
        },
        "id": "ssEn2nmuXGs4",
        "outputId": "b35f5d89-e99c-4602-f5fc-93d6a93eaf14"
      },
      "execution_count": 43,
      "outputs": [
        {
          "output_type": "execute_result",
          "data": {
            "text/plain": [
              "['Banan\\n', 'Orange\\n', 'Apple\\n', 'Strawberry\\n', 'Cherry\\n']"
            ]
          },
          "metadata": {},
          "execution_count": 43
        }
      ]
    },
    {
      "cell_type": "code",
      "source": [
        "with open(\"fruits2.txt\", \"w\",encoding = \"utf-8\") as ff:\n",
        "  ff.writelines(fruits2)"
      ],
      "metadata": {
        "id": "Tkxcz5A_XayV"
      },
      "execution_count": 53,
      "outputs": []
    },
    {
      "cell_type": "code",
      "source": [
        "with open(\"fruits2.txt\", \"r\",encoding = \"utf-8\") as ff:\n",
        "  print(ff.read())"
      ],
      "metadata": {
        "colab": {
          "base_uri": "https://localhost:8080/"
        },
        "id": "BeAQPMohX3hM",
        "outputId": "b15e5247-7352-44c2-faa2-2d85542955d1"
      },
      "execution_count": 54,
      "outputs": [
        {
          "output_type": "stream",
          "name": "stdout",
          "text": [
            "Banan\n",
            "Orange\n",
            "Apple\n",
            "Strawberry\n",
            "Cherry\n",
            "\n"
          ]
        }
      ]
    },
    {
      "cell_type": "code",
      "source": [
        "with open(\"fruits2.txt\", \"a\",encoding = \"utf-8\") as ff:\n",
        "  ff.writelines(fruits2)"
      ],
      "metadata": {
        "id": "70PVKq6iYf-c"
      },
      "execution_count": 49,
      "outputs": []
    },
    {
      "cell_type": "code",
      "source": [
        "with open(\"fruits2.txt\", \"r\",encoding = \"utf-8\") as ff:\n",
        "  print(ff.read())"
      ],
      "metadata": {
        "colab": {
          "base_uri": "https://localhost:8080/"
        },
        "id": "w2o7PNvnYhTm",
        "outputId": "b86ef0ae-c84f-4ea7-c034-a08914b32353"
      },
      "execution_count": 50,
      "outputs": [
        {
          "output_type": "stream",
          "name": "stdout",
          "text": [
            "Banan\n",
            "Orange\n",
            "Apple\n",
            "Strawberry\n",
            "Cherry\n",
            "Banan\n",
            "Orange\n",
            "Apple\n",
            "Strawberry\n",
            "Cherry\n",
            "Banan\n",
            "Orange\n",
            "Apple\n",
            "Strawberry\n",
            "Cherry\n",
            "\n"
          ]
        }
      ]
    }
  ]
}