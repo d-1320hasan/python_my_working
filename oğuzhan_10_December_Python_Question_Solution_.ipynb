{
  "nbformat": 4,
  "nbformat_minor": 0,
  "metadata": {
    "colab": {
      "name": "oğuzhan-10_December_Python_Question_Solution-.ipynb",
      "provenance": [],
      "collapsed_sections": [],
      "include_colab_link": true
    },
    "kernelspec": {
      "name": "python3",
      "display_name": "Python 3"
    },
    "language_info": {
      "name": "python"
    }
  },
  "cells": [
    {
      "cell_type": "markdown",
      "metadata": {
        "id": "view-in-github",
        "colab_type": "text"
      },
      "source": [
        "<a href=\"https://colab.research.google.com/github/d-1320hasan/python_my_working/blob/main/o%C4%9Fuzhan_10_December_Python_Question_Solution_.ipynb\" target=\"_parent\"><img src=\"https://colab.research.google.com/assets/colab-badge.svg\" alt=\"Open In Colab\"/></a>"
      ]
    },
    {
      "cell_type": "markdown",
      "source": [
        "**Question - 1**\n",
        "\n",
        "Take the following IPv4 address: **128.32.10.1**\n",
        "\n",
        "This address has 4 octets where each octet is a single byte (or 8 bits).\n",
        "\n",
        "- 1st octet **128** has the binary representation: **10000000**\n",
        "- 2nd octet **32** has the binary representation: **00100000**\n",
        "- 3rd octet **10** has the binary representation: **00001010**\n",
        "- 4th octet **1** has the binary representation: **00000001**\n",
        "\n",
        "So **128.32.10.1** == **10000000.00100000.00001010.00000001**\n",
        "\n",
        "Because the above IP address has 32 bits, we can represent it as the unsigned 32 bit number: **2149583361**\n",
        "\n",
        "Complete the function that takes an unsigned 32 bit number and returns a string representation of its IPv4 address.\n",
        "\n",
        "Examples\n",
        "\n",
        "2149583361 ==> \"128.32.10.1\"\n",
        "\n",
        "32         ==> \"0.0.0.32\"\n",
        "\n",
        "0          ==> \"0.0.0.0\""
      ],
      "metadata": {
        "id": "OVmP6JAV7D3f"
      }
    },
    {
      "cell_type": "code",
      "source": [
        "x = 2149583361\n",
        "donusturulmus = \"{0:b}\".format(x).rjust(32,\"0\")\n",
        "donusturulmus"
      ],
      "metadata": {
        "id": "NiKrH2d27EEv",
        "colab": {
          "base_uri": "https://localhost:8080/",
          "height": 35
        },
        "outputId": "b31dbd3d-7c28-4aff-b7ec-ab708ed43101"
      },
      "execution_count": null,
      "outputs": [
        {
          "output_type": "execute_result",
          "data": {
            "application/vnd.google.colaboratory.intrinsic+json": {
              "type": "string"
            },
            "text/plain": [
              "'10000000001000000000101000000001'"
            ]
          },
          "metadata": {},
          "execution_count": 4
        }
      ]
    },
    {
      "cell_type": "code",
      "source": [
        "def function(a):\n",
        "  donusturulmus = \"{0:b}\".format(x).rjust(32,\"0\")\n",
        "  return \".\".join([str(int(donusturulmus[x:x+8],2)) for x in range(0,32,8)])\n",
        "function(2149583361)"
      ],
      "metadata": {
        "colab": {
          "base_uri": "https://localhost:8080/",
          "height": 35
        },
        "id": "atGkg0ore5Ev",
        "outputId": "4e25fc2c-415a-4509-f339-e7df99b88186"
      },
      "execution_count": null,
      "outputs": [
        {
          "output_type": "execute_result",
          "data": {
            "application/vnd.google.colaboratory.intrinsic+json": {
              "type": "string"
            },
            "text/plain": [
              "'128.32.10.1'"
            ]
          },
          "metadata": {},
          "execution_count": 7
        }
      ]
    },
    {
      "cell_type": "markdown",
      "source": [
        "**Question - 2**\n",
        "\n",
        "Have the function StringChallenge(**str**) take the **str** parameter being passed and modify it using the following algorithm. Replace every letter in the string with the letter following it in the alphabet (**ie.** c becomes d, z becomes a). Then capitalize every vowel in this new string (a, e, i, o, u) and finally return this modified string.\n",
        "\n",
        "Examples\n",
        "\n",
        "Input: \"hello*3\"\n",
        "\n",
        "Output: Ifmmp*3\n",
        "\n",
        "Input: \"fun times!\"\n",
        "\n",
        "Output: gvO Ujnft!"
      ],
      "metadata": {
        "id": "bSGvEMX67Yms"
      }
    },
    {
      "cell_type": "code",
      "source": [
        "alpha = \"abcdefghijklmnopqrstuvwxyz\"\n",
        "vowels = \"aeiou\"\n",
        "\n",
        "def StringChallenge(text):\n",
        "  new_text = \"\"\n",
        "  for i in text:\n",
        "    if i.isalpha():\n",
        "      new_text += alpha[(alpha.index(i)+1) % len(alpha)]\n",
        "    else :\n",
        "      new_text += i\n",
        "    for j in new_text:\n",
        "      if j in vowels :\n",
        "        new_text = new_text.replace(j,j.upper())\n",
        "  return new_text\n",
        "StringChallenge(\"hello*3\")\n"
      ],
      "metadata": {
        "id": "jkgBOjOb8SRf",
        "colab": {
          "base_uri": "https://localhost:8080/",
          "height": 35
        },
        "outputId": "869aa4c5-bd1a-4aac-ff1e-6665dad6a06e"
      },
      "execution_count": 10,
      "outputs": [
        {
          "output_type": "execute_result",
          "data": {
            "application/vnd.google.colaboratory.intrinsic+json": {
              "type": "string"
            },
            "text/plain": [
              "'Ifmmp*3'"
            ]
          },
          "metadata": {},
          "execution_count": 10
        }
      ]
    },
    {
      "cell_type": "markdown",
      "source": [
        "**Question - 3**\n",
        "\n",
        "**Attention:** Import the random module to determine the dice.\n",
        "\n",
        "Greed is a dice game played with five six-sided dice. Your mission, should you choose to accept it, is to score a throw according to these rules. You will always be given an array with five six-sided dice values.\n",
        "\n",
        "![image.png](data:image/png;base64,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)\n",
        "\n",
        "A single die can only be counted once in each roll. For example, a given \"5\" can only count as part of a triplet (contributing to the 500 points) or as a single 50 points, but not both in the same roll.\n",
        "\n",
        "Example scoring\n",
        "\n",
        "![image.png](data:image/png;base64,iVBORw0KGgoAAAANSUhEUgAAAlAAAAB1CAYAAACBHN/pAAAcBklEQVR4Ae2dX47cKtOH34VkFjdZTdT78D4ma/jOkY40F5GygVbucudPBRQUGGjw9P9+LqLusTEUVY+rfuDJ+H9///5d+YcPYAAGYAAGYAAGYGCcgf/hrHFn4St8BQMwAAMwAAMwIAwgoNiBYwcSBmAABmAABmBgkgEE1KTDWHmw8oABGIABGIABGOgKqD9//qy/fv1a//3n3/Wf//uHf/gABmAABmAABmDgJRgQ7SMaSLRQTTA3BZRcIBf//v17PR6P/MMHMAADMAADMAADL8WAaCDRQjUR1RRQoroQTwhHxDMMwAAMwAAMvDIDooVEE5W7UE0BJYrrlR3G3EkYMAADMAADMAADwoBoomEBJb/zBDiAAwMwAAMwAAMw8OoMiCZCQPH8GmEMAzAAAzAAAzAwwQACasJZr662mT8rThiAARiAARjwDCCgEFCsOGAABmAABmAABiYZQEBNOgzlzeoLBmAABmAABmAAAYWAYtUBAzAAAzAAAzAwyQACatJhrDpYdcAADMAADMAADCCgEFCsOmAABmAABmAABiYZQEBNOoxVB6sOGIABGIABGIABBBQCilUHDMAADMAADMDAJANXFFAf6+Hb2/pW/HtfPl3QPn68rYefKNrequZzeTf+e1+X//BXz1+cgw8YgAEYgIFLMXBFAaVB/FyX71uxhIBS/zQ+fx7Wt+/L+jmpkC8FDv024kR8WMXCAAzAwEswcF8CalnW97BDpTtTx6PsXB3Wxey+pJ0qL8Z0V0uvqYmx2rGHEgGnBJScj7t7h/VDb+De8R+LE7P+OnPNMfdr8jei4aGYUQb4fIlkDpvkJxi4LgN3JaDevoUi/p8IKS3o/tGfiqOjnAs7MSKK4vFQ9KXYy6MuV/RjWxEEj/7IK4maNOcAS+YvA1B53IowJ6yST8Rn2m8uNsX/qR03qPEvwgRhAgMwAAMvy8BdCai00+F3nfwuiv1ui9dWFKkISJ+H9f27CDFpq4LM9vGI31VIJVGj892IGxFJPz4M3MaXm3PqC2lT/q5aGmszBsnD+Fd9yCecwAAMwMCzM/CUAuoYxMHHj8P68fOwHn5+rIcn+/0hEU0qjs4voJ5FbJLAnj2BMT8YhwEYuBUDDyygjmv+CM/vnKRHd4f1sHys/pHfe3zsdytHn3tcmbsKKCcY4yNPczMVj/Cc6FIh2dyBKv1q+mO3id0mGIABGIABGHAMPLSA8r9gnh436e/w6HH/c3jklT3KejxR4MSPfbSmQiiAnJ9PO0it47pLVxd2xWO8Yqz6NY/nU+ZBzGAABmAABvYycAMBRbD2BovrYAcGYAAGYAAG7oMBBBRbkWxHwwAMwAAMwAAMTDKAgJp0GMr/PpQ/cSAOMAADMAADt2QAAYWAYtUBAzAAAzAAAzAwyQACatJht1S7jM1qCwZgAAZgAAbugwEEFAKKVQcMwAAMwAAMwMAkAwioSYeh/O9D+RMH4gADMAADMHBLBhBQCChWHTAAAzAAAzAAA5MMIKAmHXZLtcvYrLZgAAZgAAZg4D4YQEAhoFh1wAAMwAAMwAAMTDKAgJp0GMr/PpQ/cSAOMAADMAADt2QAAYWAYtUBAzAAAzAAAzAwyQACatJht1S7jM1qCwZgAAZgAAbugwEEFAKKVQcMwAAMwAAMwMAkA1cWUB/r4dvb+hb+vS+fKWD/Leu7OXf4mRTmx490zdv3Zf2Mk2z397m8x3Hevh3Wj4Frjme24dyrhLv2Q8d3V4vFw9qQWD83M/SHb2EABmDgMgxcWUBdZhLAgV9hAAZgAAZgAAauyQACKu5MAd41wWMseIMBGIABGHhkBhBQCKj0GBVf4AsYgAEYgAEYGGIAAQUoQ6A88ioB21nlwgAMwAAMnJsBBBQCCgEFAzAAAzAAAzAwyQACatJh51aw9MeqCAZgAAZgAAYejwEEFAKKVQcMwAAMwAAMwMAkAwioSYexSni8VQIxI2YwAAMwAAPnZgABhYBi1QEDMAADMAADMDDJAAJq0mHnVrD0x6oIBmAABmAABh6PAQQUAopVBwzAAAzAAAzAwCQDCKhJh7FKeLxVAjEjZjAAAzAAA+dmAAGFgLr7VYe8RNm+XPrcN8F99ycvzLYvwyYJ7onXazPUYebnYX378XH3OWBPzLmmE3fq3lmYv66Akpv121v6931ZP0cC+d+yvrvrRgvJ57p83zFOsOVzeXc2jhZtbX/pRBTHEV/YpNfza/Td2/o26u+RmBRtMttK+75gg+vXzlXHtX1eUGBUC6+MfU5f9uIn85Xz5xxPfZh95vfMKPuuSP08rO/L50RCElEo9+f7uvyXJ3nxt+aIzAYb70lfNBk6qh11W85VgKsMubFH81nuo6Zd0Udz/Yp9c/EbtCfji2uaccNPE7njvji6voCqFcMeQFo8XHKYSwwK7FSCCOMcBnc9tO92kj5XwD/WQywcPvHHAiM+qvpV2qUidUkbpe96Ev6CDZ2Y14vSuXyd+qmOI3bFWKS2ytv0ZzN+qW/lbLrv3r1lz1kRJPaMiFIXn/d1+bmsy8+CSdu3/R5jmnMh88r5tOft97Jd8lHVN3G8bbs2s9u21b7tvDrfqwydW0B9KU/m/v3KXLn2vOzgz/v25/0LKE1MnUTYh8yvrKPY0P6qn6ltPem1g5kn/3a7vq3j12X2tQpwcVyuyQujJM7zrD6bxeikDe05N/s8SpySMEw+9fPZ7mCE9kvaAa2LPWOL2O12SdKOSPSdsPh9WZe4W2KFvWdIrx3irvBRmo+xJ4w5tGPr2G75yPRZvQfkvPjRzql3jc53tL32VRbtwl53vwc2C/9sOdY+t59tho5rdg9FX+h8fNwTJ8G+czEUfLyE3e5yN87PsbRhO78NK9U8md8XaU6pv56fNmNEX6XraYMvXpGB6wsoU5SGioverNXE0IPWJI3q7sz2WkkiupNTT67baxQae60eu9xnUXyKYq9+TUnRF4X3ZSkKo/dRLaHO2u7mH2ObxM1pG1o+LQpq4MAWFhUp3n4/R527FwFqhz+nsZ0RCFUObHE/+kKsPszbF3FSlsvPRvzyGAz2Ffuu+y/vs+F7sWdkh835YXIHKtpXzkd+DiLM+eOwirgQv56boZzVIJBDjpD4aSyPTqjr79+dmSEnoNKjeGdTsCHNV+JTct2Imfq1kifz/hrXj8Zcx+HzYR87DeUA4jsU3+sKKBsUTb7F70A0g1tJDM22dpxQ4FLxbCSQov+8EDauMePYBDhq1752PqGmJF/YZvzqE+eH+30wLyxMkTK277OjGNf2FwrgR3gs877ssaEnAGrntnNLMay179hv5pL6MO3Fx0ZgpAIlNtgdK/muIs5cb/rf+N7ELz83OAd3fWmDFQUn7GiO37nOPv7rzS07J76yvgnxM4Vc/bqf477PtrHdtlcbvJCx9nb8kc2ztdNV8CrzdgJKbNjGLy0MTozr4lfsBrr7MYm1nKvQn1xnmK62KeZFmxOxwF9DIuSRObqdgGo+hmlAWUsMo4CapNwKliRK3dHIPnfsXrXG+PrxkFy7NpkiEBJnTL5f8eGor107Uxx222DmsRm7ds6MGdqnAllr3+CsGCv1YdoXxSYV2a0N8zFv2Trbd6sfM49irkfHh+64dNqV1+36WeZjBYnYm/9HB/G9WyhchKGasNn6LMV2e240tlWGysekMscooKxfJuPQu8eDH6uLyTj+5Hi7Ys8Yo+zQ7r5ZuZ2AcjdzsVLq3Yy9xNC7rnjEMgpkPem1g+kEWFfYtK+dsama/Oz8M7/mRVfmlF8v5yd2J+w4ne/OF3E1e8qGtl9S8Srb1IqZL8C5WNRCVGtf9ln/ORZxO9+mgMof543GNWuXxc/YVIyZXWNti99n5+xZiP6L/RgbznpMxtP4+DGyeLv7Xc9fgqGagCrjZ30y68/ktypDTQE1+UvyZUxO5ckGR5nvyz75+el3Uk7nk8QzbZMvriqgXGGNjzgGxZNLCMWW9kmh4hOf7iQ1H3d1EsOogMrn5O28SBFyhbXwQxApuQ2FX+11UdQoAN5Pe/xT3kROnGlsy3G6Nqgtlc9mMWgUs4KVFIdG+0784/yyPoNv5ZiZY158cvZGfpeoG79gY70IV3w2MqdKmyx+IY7n4CL6MY5Z+EfGir6UOCXGU/zCn3Jo8RX7rvijyVBdQPnfj0s2JB+cmaGOgNLfe9L8Ff/zwsl5JrvdtSFPlrHN/Or6lJioWK34sDcu5xBXL8zAVQXUNplys+KTPgNOXJwUzP0+Ht7HIkCjyHjyuV4gGcNQn5lLi/OHv/8uwCQ+6TP5KP5BQHFz3P0KShL8dtX8HDfg6UQhuwPFriLMTjP72gx17hUR56++QOF+mr6fTuetDnNP5G8E1BMFE6hf46YlzsQZBmAABm7PAAIKAcXqAwZgAAZgAAZgYJIBBNSkw1D9t1f9xIAYwAAMwAAM3JoBBBQCilUHDMAADMAADMDAJAMIqEmH3VrxMj6rLhiAARiAARi4PQMIKAQUqw4YgAEYgAEYgIFJBhBQkw5D9d9e9RMDYgADMAADMHBrBhBQCKinXHXwd3/OmVyf+W9RPfPczsnALfr6wl9/J68/ZV6/tWAqx7+6gIqvrZj5423xdRozf1BQEqO82mD8FQXRtr3Xzcxpzw3e8UO0vbQhXmNfmeGToYgMfV3EOf5QpfaXXn8Rku4uG+xrPcZjKIC3//K0MjHHRXnTnPq5Lt7upVCrD+Z8erzSX0Pfw7GzTV/zUvLfvc88YzX2ox3S71SfM0KjzoSMvbmHuvOYGbNsewc2xPxQye/uXOX4xfxR+oefT+W7Vz5/VQElhUUSQ7vAVWDVxD1zI8W2khwmC4XemDqu/tz43DWnRl9dENWeOLfkq7YN+fyt3+13//6vnX5yc0mFSG1Jc9lnQ9ZPZc6p/+QHd6zT9lqFSWzfFuV6oWrOYw8jp66JvsljMmpDFpNTY+04r/3nbEp8c3uz83FOngPtY2ROWT+ZvdeKVX2ca3HqfXRjGzp5TWPYjlNx72cx5Jz6j8/LsXBVAaWB3HVDFIlS++p/5om33zZ38qyNs+1nbMnadvywsUGSk1k9S3HxLyYttsZdn17cxrHCsa0QyP0U24fktSlgu2wokrr08a0mSra2iA9aq3exbTsfu9OV+8D3tYSdzO0OXjn3bCdEd0Tia1j8nJblPez6GcHqfLSYF+naFXduX2Z/8IvbRZx6V17tvsjHsdzEeQoTU+MUnA0WuHGO/W5jineYw5CNHdta87T+jnEVBsvY1jjLWfX3YtoBti//3XBn7uFjuC/9zrHlJO8/xsz5XOxLYylD57dh3g/RTjev1nx8vx+D/MQ+ac9jvAszgIAqHJySSutmrieqTdIv+j3bTd1JNKUNPhF/rvp29/dFxIDMyyQkVxQOqxT2VIiOqyZqTbaj9ov/bD+7bDAFzM3p+7IuVfFTxqJeFF0fpoDYYpXb6wuwztlflziQtnqu5496u1DEQjF0fWthdDFIgkrOqQ/zvqSP0M74SGzJ+jvJnulH24oNao8e23xWrtu0sTGpx6Pnu9pckj98fBLHxzX5x/v3sAyKvMJ/3ibfhxcnKjiMv61oEn9Foeav05i5eyees/4ov8t1iS/1i4ulxjnbfSvaZzaUfevPOdPlbp6Kv1Kc7LNhrx8032x94X1SzkHnxqcyw+dtWEBAtQqAK2qtG3obrLkCtr1++AaYFlAfbmfDF35NwOHTJOBUpL5g29EXtFhIQmF/XyZtCMXtQ3ZrQlFPhbJnX79gb/vYtrd+sN+H4xN8sBVa6vtgv/heBYv9nvHoC1KtoDveGqLwtK3SbxJsrr3j6tQu29Zf1bG0r8I+y0X1ujB3Nzf1TZchFVBmPoGdz8yPFWZ67WrnNjGy8bTfK2M1balfl3NnfC42FD5NIq417naM/D7YnpfY7LOh3lcv1vGcY6adb3ObW3PlePRnkzl8dE4fIaCaoEkyKIpMs+3sDsAXIO4kmrLw6COlWMzjtZKU82IpCWq0wPUA3PQTkv6cDeJ7+8u73t7YRzMOpthU2myT8La9LRz2e2/O5bntOBLvorjYgmy/Z3YX15hze23ztnbYdozkbKT5te1JbSzbW//W29lrKvdSk6HQ1t6n0nZk90fm2WpXO7eJkfWF/Z7PpT/f+nV5bI0PNzaMjLUdI+dze15s3mdDva++D8IcYm6qzcn4wNwDQ/3Snsd4F2QAAdVy7mgiDtdLwok7Cq0+z3G8k2i2NuQJTRKn2pglSNdnIRbdsbFHVjaRyRi5ENtnQ5bkJRaVRx12XP2ezavwd9ZnOJfbK7amOff60vFqn3mfWhByPzhxq7ssncJY7+vUIw8ds/UpthTxznxV2KrnhImW6NA22ee+wjfDcf64TMYr+Wv5oGNbbZ7ufkg7JM7G6IuGvzJf1OyoxyHnztpZb19jMB3zPomLDzcPG/t6n/ts2OuHUzx/od+TMajFhWOJH3zR88VVBZRLOsUWdLyxW6C7G15/HyF8auFpXeNW+8U1Mdm1gZBiFbfIB9qLY3fNqWl32zb9naRon9mh6drgxEeYVzYnn1i1v00cgt83xxu2Z75zMTZJepcNkjQ1HqavxvgR8qLQxePdR2s6Tl588yLSiU1pU8asFt2iCFjRZL+XfZUsmxiWcT8dK+vTnImyr1wE+7k3xdzG5glfmWtLG4TNOKcmQ8U9eDI3JNvceLX2Ej/jZ2Uot0/jKv0VsTVz0mtbn1mfwRY5lvxvBdRx1V1lvW9TuzSvzVgZj8anwc7z2bDDD4Vtbl5FTJx9xbHNHCd8zrUdVvDj1I7dVQUU4ALuNRgg4V6AMxEwFVFxjXheboxid4biMVU8LhcXw68TWFasmnPE6/7i9WIxQUC9WMCvkvTuwKeyWxJ3L+7Ansf2+46dhYfx+TPP7dHFRrH79jBMPbrfsX80XyOguClZxcAADMAADMAADEwygICadNioMqUdqxgYgAEYgAEYeF4GEFAIKFYdMAADMAADMAADkwwgoCYdxmrieVcTxJbYwgAMwAAMjDKAgEJAseqAARiAARiAARiYZAABNemwUWVKO1YxMAADMAADMPC8DCCgEFCsOmAABmAABmAABiYZQEBNOozVxB2tJhp/MZoY7YnRE/zNnRfnIf8L5nsY4BpyBwzMMHBlAeX/8q++hmDuDx3KH7xrveS0FXQdb+wv2WavNDCvShlyaHjVxNCrFb4k2ip+sK+5KH1kX5Vwhb8krT7MYtuxwb4CJrvmpI/ED/VXvNg+LxaPRrG+pz/gWY1Fz68uTmP3ytA9UR1L78n0+hwbdxs7e/z0eK/AQ993x6M/P+e3Vu7k+Gnm8NGr++i6AurnIb3jyRX98WQtifX9x6H6jqpWEF0B+XFYD2d4EW1rDH/cJ+/DD/sOq8vcXFU/iC+r74rKi4r3x8fltmlDAT5kfwW8bUNuT96u7+/j6vywfG7n0hA2p/qbPt8YR+y6iwJWjcVpJvOYnG4/7TdX5OvCNx8bHra+FYFU911sG+L+URWvl4gnfUbf4/NtPn5yn1xXQGXOlAQ5KKBEIMjuSaNoVQGOiWR8HEnge3YstJjvvb5qf+arkKRafmgJqOK42PmW+Vx8k79Ad9iWjX1p9ZuJiKYNRTFw8Rq1pRPTYrw4HzkeX05suHPtl3X5rjsi5txmjhIHP8/Ul79OuXFzX5b1PYylx/117+uyJDvSOS8ItU97vBxvTJw1YiHzyfxQK8Yd31b9EfqsCvhacS3iHvssjj89D8c1f0H4Ke6UvVrMcj9n91/0b94m3hecf7miT+zPdy/cTkBJIh96pCQJPSSNYQGVCsjMm9LdCjgW2dOJyoFo5nFZAdXxQ1YU0w5Issf7431ZCtEqfY6Klj50znehiNoE3rbBFGpn/2FdRgWstC8Ldii4KkL8ZyhK7pwpUCZmXlCkWCd7+/N1xa/Cr8w9itRsXB+DZHeafz6mZdcLqySaDAOdwteKRRRx//Xmlo8/lGxr8WjaF/yg91n0YfKHj8mz82DmK76yTE77Lo+njf9Q/Jrj5f3SF/6AgZyB2wgoV1hS0eoFRQpSXJHLdTHh5hOxfeQJpEhUo8lCElq2W1MbLy9oeSGstd9/bNgPxrfeng+3u+KL8E5fnPJZJhTyot+2IdhiCsew/3oFu3Zuc8z4YXNuMEYNFq14zMW7CIca84WgCMIixUt3xvSz1oexuRMLuUe8wEsi2943+j2fg+m74ED7qorWoq32XX66PpwYfjEehDsVkfo5kNus/5LvihjtZXowZtYGvhe+x4cvtaN3fQHlEnw/gaebUpKqFg772Ssi9YIkySqt5EegN0W2dVPUkqDYO5kI03xbds34wRTqYF+cd1FcT4/bsic/LsJnUwzED1IYmzaEOBlfSUGIYrnlczneKxC1c5tjJrabc/ncmj46q4Bq8Wzs7PnDnOvGwrRT8RPZiOcMP/HYCZ/s9aH0H699MR7ivE/4theDRh/DC5Fe35x7KSHQzHNw0OXgygLKC4Ft0h5MIo2i1Q/+fBGS/lwhMsW9P4a3/2qJq+cHSapx5yyf+3bF6uMxJFombiQZJ8W4bUPmLyfuWkKi5CPvM4tNrai4vtMjvCy2tfYjcy36VBvac28LE2dP+Ugy2CD9fSU+uT25HzP/xzl3fBvb5P0kEVQcb7WPx71o0vll9jw9D+LnUd5rfs19p/zJZy/mth3fa37lGFyMM3BVASU3drlToclzKGiSVCdFTf4Ype+YzL7pcbzomppPLCR9uza+KfzgCnDcqUtCwV3nBFXw+2ZOksS/VqA3ttUSeNOGsOsQbE+i67Q/JFZVXzcEUdNHjfa1eZXHLC9qixxL87BipC2gyl8UTwJY/OBjFO+bTQz7vtraY+/BghVdODTEXDn/fT/n81G/+b5eiYew+xbv2wbPWY7o+S5w0BD2+2LVZ4s+8c+rM3BVAfXqzmb+50w4Uky+soI/py1P0tdDF194UCGeBPyTcJmJSOZEHbkfBhBQ3JzdZ7x3fbMWO3F3bevdc9bbIbufhNWN8YvzkD0CvXveHoQp/Pi49eEKsUNAXcHJ3aTP+NygMAADMAADMPBwDCCggPbhoEWQsnqHARiAARi4NQMIKAQUAgoGYAAGYAAGYGCSAQTUpMNurXgZn1UXDMAADMAADNyeAQQUAopVBwzAAAzAAAzAwCQDCKhJh6H6b6/6iQExgAEYgAEYuDUDCCgEFKsOGIABGIABGICBSQYQUJMOu7XiZXxWXTAAAzAAAzBwewamBNS///yLQkVwwQAMwAAMwAAMvDwDoon+/v2b/ftfeUB//vXr1/r79++XdxrK//bKnxgQAxiAARiAgVsxIFpINJHqI/1sCqg/f/6sorgQUUB7K2gZF/ZgAAZgAAZuyYBoINFCoolUOOlnU0BJA7lAVJdcLM//+IcPYAAGYAAGYAAGXoEB0T6igWriSTRSV0CpyuIzf+6JP/AHDMAADMAADLw2Awio4pfCuCFe+4Yg/sQfBmAABmBghAEEFAJq81x3BBzakGBgAAZgAAZemQEEFAIKAQUDMAADMAADMDDJAAJq0mGvrLaZO6tNGIABGIABGPAM/D/vhY1wcwtwWwAAAABJRU5ErkJggg==)"
      ],
      "metadata": {
        "id": "XPMfBjbk8VJI"
      }
    },
    {
      "cell_type": "code",
      "source": [
        "import random\n",
        "throw = []\n",
        "for i in range (5):\n",
        "  throw += [random.randint(1,6)]\n"
      ],
      "metadata": {
        "id": "wBd192jI8VSE",
        "colab": {
          "base_uri": "https://localhost:8080/"
        },
        "outputId": "8df2d5e2-4f92-4e55-fd08-8b7e6766f6eb"
      },
      "execution_count": 11,
      "outputs": [
        {
          "output_type": "execute_result",
          "data": {
            "text/plain": [
              "[6, 4, 4, 6, 2]"
            ]
          },
          "metadata": {},
          "execution_count": 11
        }
      ]
    },
    {
      "cell_type": "markdown",
      "source": [
        "**Question - 4**\n",
        "\n",
        "**Attention:** Use recursive function while solving this question.\n",
        "\n",
        "Write a Python program of recursion list sum.\n",
        "\n",
        "Test Data: [1, 2, [3,4], [5,6]]\n",
        "\n",
        "Expected Result: 21"
      ],
      "metadata": {
        "id": "AZjnKnQh8Vaq"
      }
    },
    {
      "cell_type": "code",
      "source": [
        "def recursive_liste_toplami (liste):\n",
        "  toplam = 0\n",
        "  for i in liste:\n",
        "    if type(i) == list:\n",
        "      toplam = toplam + recursive_liste_toplami(i)  #burada liste [3,4]ile karşılaşınca bu döngüye yeni liste girecek\n",
        "    else:\n",
        "      toplam = toplam + i\n",
        "  return toplam\n",
        "recursive_liste_toplami([1,2,[3,4],[5,6]])\n",
        "\n"
      ],
      "metadata": {
        "id": "z_sU6etn8Viy",
        "colab": {
          "base_uri": "https://localhost:8080/"
        },
        "outputId": "0e120cb6-9b08-4fe3-e53f-e4fafb55ee09"
      },
      "execution_count": 13,
      "outputs": [
        {
          "output_type": "execute_result",
          "data": {
            "text/plain": [
              "21"
            ]
          },
          "metadata": {},
          "execution_count": 13
        }
      ]
    },
    {
      "cell_type": "markdown",
      "source": [
        "**Question - 5**\n",
        "\n",
        "**Attention:** Use recursive function while solving this question.\n",
        "\n",
        "Write a Python program to calculate the harmonic sum of n-1.\n",
        "\n",
        "Note: The harmonic sum is the sum of reciprocals of the positive integers.\n",
        "\n",
        "Example:\n",
        "\n",
        "harmonic series\n",
        "\n",
        "![image.png](data:image/png;base64,iVBORw0KGgoAAAANSUhEUgAAANgAAAA0CAYAAADopvYUAAAAAXNSR0IArs4c6QAAAARnQU1BAACxjwv8YQUAAAAJcEhZcwAADsMAAA7DAcdvqGQAAASQSURBVHhe7Z3RcdpAEIZld4DTAU4HOM9+iJwKglNB5FQQnAoCriCQCgKpIJAZ+zmQDuwOgjuIkv+49QiNPMjmjtsT/zdzIzjA7Ozdr9vblfBB/p+EEOKFQ3skhHiAAiPEIxQYIR5Z24Pd3NzYR4SQbTg9PTVHrmCEeKRyBRP1EUKeRllDXMEI8QgFRohHohLYYDBILi8/JQcHh8lkMrG9YdFok6DVNs0+c000AsOALBa/zeBoQaNNglbbNPvMB9EIrN//nIzH35Isy2xPeDTaJGi1TbPPfBDdHqzVatlHetBok6DVNs0+cwmTHIR4hAIjxCMUGCEeocAI8QgFRohHKDBCPFJbYPtUfSfEFbUEtm/Vd0JcUUtgLqrvEKkLgd7f368dn4sre4ArmwSttu2Lz1zypD1YyOo7wlKEp6PRyDy/uPiQHB29MI9DodEmQattmn3mg2iSHN1uN8nzv2ttufxjXw2DRpsErbZp9pkPohEYITFCgZG9AqEpQlSEpsLd3Z0JU09OXtmeFXiOfrwu4HPFEHcj+E0O4fr62rTH6PUuc/yMx3g8tj3VdLvn5n11Wr/ft59aUfWe5zZhG3tA1fue28pota2pPhsOh6Y/yy5sT57f3t7mrdZR3umc2J4VeI5+vC7gc/g8/k4VZQ15EVgV+GzVQIRCmz1FtNpGn22mrCGGiIR4JBqBIeZFTIz4F+3s7M1abByCxWKxZtP5+TtndR3XwF+wUYN9s9nswWfSjo9f2lebRRQCg7iwucSEFjBImNyhRIbvR3FzOv1hUs3D4RdT48FE1gb8B3u1AL+VQfq+iTxJYK6r73UZDK7M1SRSN8FVJe1229hRNVi7YDL5bsQlxXdc5YKGk0DxRBAanIBC+agKnISAjKU0jG8jsXsxw2NJDiQ1JCsjDdmVXTCdTis3r2JTOfMTEmy0d+WXuqTpmfGfjNtyubSvhAHjBTuQCXwsExczZQ3VEphGMFEwUJhAGoA97faxqiwbbEFaWXwVWmBFoUvD+IUWvUvKGoo2iyhhWLf71hxDgotMsffKsvdJr9ezvWGBfxDGYm+oBfhGQny5cBx7Q437VmdYoRliWsEQjmkIDyXkkaYl7IFdCK+BlhWsDAq4WPVhl6aVfxsasYJh447MmIaz83z+y1ysKmdkZDtlIx8KJDWwsqdpant0gkQVVjMwGn01x6YRpcAwiZF16nQ6ticsyCRC7JIJm81+mmMIEHIhPNQSqm4CY4gTgdb64bZEJzCIK01fP6wYmoBNEFvIyYKVACIrFnGL91vhsbb7ryCypv7Sb1QCQzIBA6H17CyTJORkQchVrjEV77fCY233X+GExEJzYCAu/C5IuSCJfi23iiM0w2RBNpHUA/5ahbQfbU/DsMkOg9YsYlX9pNiKtxPsAnwfvhc1HLmzYD6fm8ydxmyYliwi/FOse4nPcGwKZQ2pF9gmcSHNGwJMlKIduDJB60TRIjCUVoo+w/OQ9vigrCH+E3RCHMJ/gk7IDqHACPEIBUaIRygwQjxSmeQghGwHkxyE7IC1FYwQ4hauYIR4I0n+AZtAxf5KQc2pAAAAAElFTkSuQmCC)"
      ],
      "metadata": {
        "id": "T0DWyxMe8VrY"
      }
    },
    {
      "cell_type": "code",
      "source": [
        "def harmonic_sum (n):\n",
        "  if n<2 :\n",
        "    return 1\n",
        "  else:\n",
        "    return 1/n + harmonic_sum(n-1)\n",
        "harmonic_sum(7)"
      ],
      "metadata": {
        "id": "8SZEKdkeEUqB",
        "colab": {
          "base_uri": "https://localhost:8080/"
        },
        "outputId": "682f7453-75d5-4ba4-8fd5-b61c830dab75"
      },
      "execution_count": 16,
      "outputs": [
        {
          "output_type": "execute_result",
          "data": {
            "text/plain": [
              "2.5928571428571425"
            ]
          },
          "metadata": {},
          "execution_count": 16
        }
      ]
    },
    {
      "cell_type": "markdown",
      "source": [
        "**Question - 6**\n",
        "\n",
        "Do you remember the triangle of balls in billiards? To build a classic triangle (5 levels) you need 15 balls. With 3 balls you can build a 2-level triangle, etc.\n",
        "\n",
        "For more examples,\n",
        "\n",
        "pyramid(1) == 1\n",
        "\n",
        "pyramid(3) == 2\n",
        "\n",
        "pyramid(6) == 3\n",
        "\n",
        "pyramid(10) == 4\n",
        "\n",
        "pyramid(15) == 5\n",
        "\n",
        "Write a function that takes number of balls (≥ 1) and calculates how many levels you can build a triangle."
      ],
      "metadata": {
        "id": "eHdfw4v3CUDP"
      }
    },
    {
      "cell_type": "code",
      "source": [
        "def pyramid(toplar):\n",
        "  kat = 0\n",
        "  while toplar>kat:\n",
        "    kat += 1\n",
        "    toplar -= kat\n",
        "  return kat\n",
        "pyramid(15)"
      ],
      "metadata": {
        "id": "l6IGVVvTCUQA",
        "colab": {
          "base_uri": "https://localhost:8080/"
        },
        "outputId": "11eca801-bab6-4fb5-9fb1-6d2b37ecfa68"
      },
      "execution_count": 17,
      "outputs": [
        {
          "output_type": "execute_result",
          "data": {
            "text/plain": [
              "5"
            ]
          },
          "metadata": {},
          "execution_count": 17
        }
      ]
    },
    {
      "cell_type": "markdown",
      "source": [
        "**Question - 7**\n",
        "\n",
        "A palindromic number reads the same both ways. The largest palindrome made from the product of two 2-digit numbers is 9009 = 91 × 99.\n",
        "\n",
        "\n",
        "Find the largest palindrome made from the product of two 3-digit numbers."
      ],
      "metadata": {
        "id": "n-ra6_qXCUbv"
      }
    },
    {
      "cell_type": "code",
      "source": [
        "palindrome = 0\n",
        "for i in range (100,1000):\n",
        "  for j in range (100,1000):\n",
        "    temp = i* j\n",
        "    if str(temp) == str(temp)[::-1]:\n",
        "      if temp > palindrome :\n",
        "        palindrome = temp\n",
        "print(palindrome)\n"
      ],
      "metadata": {
        "id": "7GeMesvVCUng",
        "colab": {
          "base_uri": "https://localhost:8080/"
        },
        "outputId": "8dd85a20-ac13-4f36-f774-7a1d4ccec36c"
      },
      "execution_count": 19,
      "outputs": [
        {
          "output_type": "stream",
          "name": "stdout",
          "text": [
            "906609\n"
          ]
        }
      ]
    },
    {
      "cell_type": "markdown",
      "source": [
        "**Question - 8**\n",
        "\n",
        "Write a program that will calculate the number of trailing zeros in a factorial of a given number.\n",
        "\n",
        "N! = 1 * 2 * 3 * ... * N\n",
        "\n",
        "Be careful 1000! has 2568 digits...\n",
        "\n",
        "Examples\n",
        "\n",
        "zeros(6) = 1\n",
        "\n",
        "6! = 1 * 2 * 3 * 4 * 5 * 6 = 720 --> 1 trailing zero\n",
        "\n",
        "zeros(12) = 2\n",
        "\n",
        "12! = 479001600 --> 2 trailing zeros\n",
        "\n",
        "Hint: You're not meant to calculate the factorial. Find another way to find the number of zeros."
      ],
      "metadata": {
        "id": "Z_NH970KRYeN"
      }
    },
    {
      "cell_type": "code",
      "source": [
        "def zeros(sayi):\n",
        "  faktoriyel = 1\n",
        "  if sayi< 0:\n",
        "    return \"olmaz\"\n",
        "  elif sayi ==0:\n",
        "    return \"0! =1\"\n",
        "  else :\n",
        "    for i in range(sayi,0,-1):\n",
        "      faktoriyel *= i\n",
        "\n",
        "  sifir_sayisi = 0\n",
        "  if sayi <=4:\n",
        "    return sifir_sayisi\n",
        "  else:\n",
        "    for i in str(faktoriyel)[::-1]:\n",
        "       if i == \"0\":\n",
        "          sifir_sayisi += 1\n",
        "       else:\n",
        "         break\n",
        "  return sifir_sayisi\n",
        "zeros(12)\n"
      ],
      "metadata": {
        "id": "KAQu7deHRhmH",
        "colab": {
          "base_uri": "https://localhost:8080/"
        },
        "outputId": "1b1f683c-d8a3-4073-d3ca-ea0eaa15cc0f"
      },
      "execution_count": 26,
      "outputs": [
        {
          "output_type": "execute_result",
          "data": {
            "text/plain": [
              "2"
            ]
          },
          "metadata": {},
          "execution_count": 26
        }
      ]
    },
    {
      "cell_type": "code",
      "source": [
        ""
      ],
      "metadata": {
        "id": "xlOOlXOq2Oh2"
      },
      "execution_count": null,
      "outputs": []
    },
    {
      "cell_type": "markdown",
      "source": [
        "**Question - 9**\n",
        "\n",
        "![image.png](data:image/png;base64,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)"
      ],
      "metadata": {
        "id": "gwdZ2l_1Rlof"
      }
    },
    {
      "cell_type": "code",
      "source": [
        "my_list=[[1,2],[2,3],[2,4]]\n",
        "newlist= []\n",
        "for i in my_list:\n",
        "  newlist.extend(i)\n",
        "center = max(newlist,key = newlist.count)\n",
        "print(center)"
      ],
      "metadata": {
        "id": "kPrVksUBRlyZ",
        "colab": {
          "base_uri": "https://localhost:8080/"
        },
        "outputId": "25a62d05-2e64-4f8c-cf5b-ba042b1cd7d3"
      },
      "execution_count": 28,
      "outputs": [
        {
          "output_type": "stream",
          "name": "stdout",
          "text": [
            "2\n"
          ]
        }
      ]
    }
  ]
}